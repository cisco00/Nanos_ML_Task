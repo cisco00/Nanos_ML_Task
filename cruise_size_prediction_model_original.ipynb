{
 "cells": [
  {
   "cell_type": "markdown",
   "metadata": {},
   "source": [
    "### i. function for autoreload"
   ]
  },
  {
   "cell_type": "code",
   "execution_count": 1,
   "metadata": {},
   "outputs": [],
   "source": [
    "%load_ext autoreload\n",
    "%autoreload 2"
   ]
  },
  {
   "cell_type": "markdown",
   "metadata": {},
   "source": [
    "### ii. disable all warnings"
   ]
  },
  {
   "cell_type": "code",
   "execution_count": 2,
   "metadata": {},
   "outputs": [],
   "source": [
    "import warnings\n",
    "warnings.filterwarnings('ignore')"
   ]
  },
  {
   "cell_type": "markdown",
   "metadata": {},
   "source": [
    "### The first thing we'll need to do is load in the libraries and datasets we'll be using."
   ]
  },
  {
   "cell_type": "markdown",
   "metadata": {},
   "source": [
    "### iii. Importing Libraries"
   ]
  },
  {
   "cell_type": "code",
   "execution_count": 3,
   "metadata": {},
   "outputs": [],
   "source": [
    "import numpy as np\n",
    "import pandas as pd\n",
    "import seaborn as sns\n",
    "from scipy.stats import pearsonr\n",
    "\n",
    "import matplotlib.pyplot as plt\n",
    "\n",
    "from sklearn.preprocessing import StandardScaler\n",
    "from sklearn.preprocessing import MinMaxScaler\n",
    "from sklearn.preprocessing import OneHotEncoder\n",
    "\n",
    "from sklearn.model_selection import cross_val_score\n",
    "from sklearn.model_selection import GridSearchCV\n",
    "from sklearn.model_selection import train_test_split\n",
    "from sklearn.linear_model import ElasticNet\n",
    "\n",
    "from sklearn.linear_model import LinearRegression\n",
    "from sklearn.linear_model import Lasso\n",
    "from sklearn.linear_model import Ridge\n",
    "\n",
    "\n",
    "from sklearn.metrics import r2_score\n",
    "from sklearn.metrics import mean_squared_error\n",
    "from sklearn.metrics import mean_absolute_error\n",
    "\n",
    "from sklearn.pipeline import Pipeline\n",
    "from sklearn.decomposition import PCA"
   ]
  },
  {
   "cell_type": "markdown",
   "metadata": {},
   "source": [
    "### 1.  Reading data from file"
   ]
  },
  {
   "cell_type": "code",
   "execution_count": 4,
   "metadata": {},
   "outputs": [
    {
     "data": {
      "text/html": [
       "<div>\n",
       "<style scoped>\n",
       "    .dataframe tbody tr th:only-of-type {\n",
       "        vertical-align: middle;\n",
       "    }\n",
       "\n",
       "    .dataframe tbody tr th {\n",
       "        vertical-align: top;\n",
       "    }\n",
       "\n",
       "    .dataframe thead th {\n",
       "        text-align: right;\n",
       "    }\n",
       "</style>\n",
       "<table border=\"1\" class=\"dataframe\">\n",
       "  <thead>\n",
       "    <tr style=\"text-align: right;\">\n",
       "      <th></th>\n",
       "      <th>Ship_name</th>\n",
       "      <th>Cruise_line</th>\n",
       "      <th>Age</th>\n",
       "      <th>Tonnage</th>\n",
       "      <th>passengers</th>\n",
       "      <th>length</th>\n",
       "      <th>cabins</th>\n",
       "      <th>passenger_density</th>\n",
       "      <th>crew</th>\n",
       "    </tr>\n",
       "  </thead>\n",
       "  <tbody>\n",
       "    <tr>\n",
       "      <th>0</th>\n",
       "      <td>Journey</td>\n",
       "      <td>Azamara</td>\n",
       "      <td>6</td>\n",
       "      <td>30.277</td>\n",
       "      <td>6.94</td>\n",
       "      <td>5.94</td>\n",
       "      <td>3.55</td>\n",
       "      <td>42.64</td>\n",
       "      <td>3.55</td>\n",
       "    </tr>\n",
       "    <tr>\n",
       "      <th>1</th>\n",
       "      <td>Quest</td>\n",
       "      <td>Azamara</td>\n",
       "      <td>6</td>\n",
       "      <td>30.277</td>\n",
       "      <td>6.94</td>\n",
       "      <td>5.94</td>\n",
       "      <td>3.55</td>\n",
       "      <td>42.64</td>\n",
       "      <td>3.55</td>\n",
       "    </tr>\n",
       "    <tr>\n",
       "      <th>2</th>\n",
       "      <td>Celebration</td>\n",
       "      <td>Carnival</td>\n",
       "      <td>26</td>\n",
       "      <td>47.262</td>\n",
       "      <td>14.86</td>\n",
       "      <td>7.22</td>\n",
       "      <td>7.43</td>\n",
       "      <td>31.80</td>\n",
       "      <td>6.70</td>\n",
       "    </tr>\n",
       "    <tr>\n",
       "      <th>3</th>\n",
       "      <td>Conquest</td>\n",
       "      <td>Carnival</td>\n",
       "      <td>11</td>\n",
       "      <td>110.000</td>\n",
       "      <td>29.74</td>\n",
       "      <td>9.53</td>\n",
       "      <td>14.88</td>\n",
       "      <td>36.99</td>\n",
       "      <td>19.10</td>\n",
       "    </tr>\n",
       "    <tr>\n",
       "      <th>4</th>\n",
       "      <td>Destiny</td>\n",
       "      <td>Carnival</td>\n",
       "      <td>17</td>\n",
       "      <td>101.353</td>\n",
       "      <td>26.42</td>\n",
       "      <td>8.92</td>\n",
       "      <td>13.21</td>\n",
       "      <td>38.36</td>\n",
       "      <td>10.00</td>\n",
       "    </tr>\n",
       "    <tr>\n",
       "      <th>...</th>\n",
       "      <td>...</td>\n",
       "      <td>...</td>\n",
       "      <td>...</td>\n",
       "      <td>...</td>\n",
       "      <td>...</td>\n",
       "      <td>...</td>\n",
       "      <td>...</td>\n",
       "      <td>...</td>\n",
       "      <td>...</td>\n",
       "    </tr>\n",
       "    <tr>\n",
       "      <th>153</th>\n",
       "      <td>Taurus</td>\n",
       "      <td>Star</td>\n",
       "      <td>22</td>\n",
       "      <td>3.341</td>\n",
       "      <td>0.66</td>\n",
       "      <td>2.79</td>\n",
       "      <td>0.33</td>\n",
       "      <td>50.62</td>\n",
       "      <td>0.59</td>\n",
       "    </tr>\n",
       "    <tr>\n",
       "      <th>154</th>\n",
       "      <td>Virgo</td>\n",
       "      <td>Star</td>\n",
       "      <td>14</td>\n",
       "      <td>76.800</td>\n",
       "      <td>19.60</td>\n",
       "      <td>8.79</td>\n",
       "      <td>9.67</td>\n",
       "      <td>39.18</td>\n",
       "      <td>12.00</td>\n",
       "    </tr>\n",
       "    <tr>\n",
       "      <th>155</th>\n",
       "      <td>Spirit</td>\n",
       "      <td>Windstar</td>\n",
       "      <td>25</td>\n",
       "      <td>5.350</td>\n",
       "      <td>1.58</td>\n",
       "      <td>4.40</td>\n",
       "      <td>0.74</td>\n",
       "      <td>33.86</td>\n",
       "      <td>0.88</td>\n",
       "    </tr>\n",
       "    <tr>\n",
       "      <th>156</th>\n",
       "      <td>Star</td>\n",
       "      <td>Windstar</td>\n",
       "      <td>27</td>\n",
       "      <td>5.350</td>\n",
       "      <td>1.67</td>\n",
       "      <td>4.40</td>\n",
       "      <td>0.74</td>\n",
       "      <td>32.04</td>\n",
       "      <td>0.88</td>\n",
       "    </tr>\n",
       "    <tr>\n",
       "      <th>157</th>\n",
       "      <td>Surf</td>\n",
       "      <td>Windstar</td>\n",
       "      <td>23</td>\n",
       "      <td>14.745</td>\n",
       "      <td>3.08</td>\n",
       "      <td>6.17</td>\n",
       "      <td>1.56</td>\n",
       "      <td>47.87</td>\n",
       "      <td>1.80</td>\n",
       "    </tr>\n",
       "  </tbody>\n",
       "</table>\n",
       "<p>158 rows × 9 columns</p>\n",
       "</div>"
      ],
      "text/plain": [
       "       Ship_name Cruise_line  Age  Tonnage  passengers  length  cabins  \\\n",
       "0        Journey     Azamara    6   30.277        6.94    5.94    3.55   \n",
       "1          Quest     Azamara    6   30.277        6.94    5.94    3.55   \n",
       "2    Celebration    Carnival   26   47.262       14.86    7.22    7.43   \n",
       "3       Conquest    Carnival   11  110.000       29.74    9.53   14.88   \n",
       "4        Destiny    Carnival   17  101.353       26.42    8.92   13.21   \n",
       "..           ...         ...  ...      ...         ...     ...     ...   \n",
       "153       Taurus        Star   22    3.341        0.66    2.79    0.33   \n",
       "154        Virgo        Star   14   76.800       19.60    8.79    9.67   \n",
       "155       Spirit    Windstar   25    5.350        1.58    4.40    0.74   \n",
       "156         Star    Windstar   27    5.350        1.67    4.40    0.74   \n",
       "157         Surf    Windstar   23   14.745        3.08    6.17    1.56   \n",
       "\n",
       "     passenger_density   crew  \n",
       "0                42.64   3.55  \n",
       "1                42.64   3.55  \n",
       "2                31.80   6.70  \n",
       "3                36.99  19.10  \n",
       "4                38.36  10.00  \n",
       "..                 ...    ...  \n",
       "153              50.62   0.59  \n",
       "154              39.18  12.00  \n",
       "155              33.86   0.88  \n",
       "156              32.04   0.88  \n",
       "157              47.87   1.80  \n",
       "\n",
       "[158 rows x 9 columns]"
      ]
     },
     "execution_count": 4,
     "metadata": {},
     "output_type": "execute_result"
    }
   ],
   "source": [
    "cruise1 = pd.read_csv(\"cruise_ship_info.csv\")\n",
    "\n",
    "cruise1[\"Ship_name\"] = cruise1[\"Ship_name\"].astype(\"category\")\n",
    "cruise1[\"Cruise_line\"] = cruise1[\"Cruise_line\"].astype(\"category\")\n",
    "\n",
    "cruise1"
   ]
  },
  {
   "cell_type": "markdown",
   "metadata": {},
   "source": [
    "### 1.1. checking for columns in the dataset"
   ]
  },
  {
   "cell_type": "code",
   "execution_count": 5,
   "metadata": {},
   "outputs": [
    {
     "data": {
      "text/plain": [
       "Index(['Ship_name', 'Cruise_line', 'Age', 'Tonnage', 'passengers', 'length',\n",
       "       'cabins', 'passenger_density', 'crew'],\n",
       "      dtype='object')"
      ]
     },
     "execution_count": 5,
     "metadata": {},
     "output_type": "execute_result"
    }
   ],
   "source": [
    "cruise1.columns"
   ]
  },
  {
   "cell_type": "markdown",
   "metadata": {},
   "source": [
    "### 1.2 Checking for missing values "
   ]
  },
  {
   "cell_type": "code",
   "execution_count": 6,
   "metadata": {},
   "outputs": [
    {
     "data": {
      "text/plain": [
       "Ship_name            0\n",
       "Cruise_line          0\n",
       "Age                  0\n",
       "Tonnage              0\n",
       "passengers           0\n",
       "length               0\n",
       "cabins               0\n",
       "passenger_density    0\n",
       "crew                 0\n",
       "dtype: int64"
      ]
     },
     "execution_count": 6,
     "metadata": {},
     "output_type": "execute_result"
    }
   ],
   "source": [
    "cruise1.isna().sum()"
   ]
  },
  {
   "cell_type": "markdown",
   "metadata": {},
   "source": [
    "### 2. Getting the statistics "
   ]
  },
  {
   "cell_type": "code",
   "execution_count": 7,
   "metadata": {},
   "outputs": [
    {
     "data": {
      "text/html": [
       "<div>\n",
       "<style scoped>\n",
       "    .dataframe tbody tr th:only-of-type {\n",
       "        vertical-align: middle;\n",
       "    }\n",
       "\n",
       "    .dataframe tbody tr th {\n",
       "        vertical-align: top;\n",
       "    }\n",
       "\n",
       "    .dataframe thead th {\n",
       "        text-align: right;\n",
       "    }\n",
       "</style>\n",
       "<table border=\"1\" class=\"dataframe\">\n",
       "  <thead>\n",
       "    <tr style=\"text-align: right;\">\n",
       "      <th></th>\n",
       "      <th>Age</th>\n",
       "      <th>Tonnage</th>\n",
       "      <th>passengers</th>\n",
       "      <th>length</th>\n",
       "      <th>cabins</th>\n",
       "      <th>passenger_density</th>\n",
       "      <th>crew</th>\n",
       "    </tr>\n",
       "  </thead>\n",
       "  <tbody>\n",
       "    <tr>\n",
       "      <th>count</th>\n",
       "      <td>158.000000</td>\n",
       "      <td>158.000000</td>\n",
       "      <td>158.000000</td>\n",
       "      <td>158.000000</td>\n",
       "      <td>158.000000</td>\n",
       "      <td>158.000000</td>\n",
       "      <td>158.000000</td>\n",
       "    </tr>\n",
       "    <tr>\n",
       "      <th>mean</th>\n",
       "      <td>15.689873</td>\n",
       "      <td>71.284671</td>\n",
       "      <td>18.457405</td>\n",
       "      <td>8.130633</td>\n",
       "      <td>8.830000</td>\n",
       "      <td>39.900949</td>\n",
       "      <td>7.794177</td>\n",
       "    </tr>\n",
       "    <tr>\n",
       "      <th>std</th>\n",
       "      <td>7.615691</td>\n",
       "      <td>37.229540</td>\n",
       "      <td>9.677095</td>\n",
       "      <td>1.793474</td>\n",
       "      <td>4.471417</td>\n",
       "      <td>8.639217</td>\n",
       "      <td>3.503487</td>\n",
       "    </tr>\n",
       "    <tr>\n",
       "      <th>min</th>\n",
       "      <td>4.000000</td>\n",
       "      <td>2.329000</td>\n",
       "      <td>0.660000</td>\n",
       "      <td>2.790000</td>\n",
       "      <td>0.330000</td>\n",
       "      <td>17.700000</td>\n",
       "      <td>0.590000</td>\n",
       "    </tr>\n",
       "    <tr>\n",
       "      <th>25%</th>\n",
       "      <td>10.000000</td>\n",
       "      <td>46.013000</td>\n",
       "      <td>12.535000</td>\n",
       "      <td>7.100000</td>\n",
       "      <td>6.132500</td>\n",
       "      <td>34.570000</td>\n",
       "      <td>5.480000</td>\n",
       "    </tr>\n",
       "    <tr>\n",
       "      <th>50%</th>\n",
       "      <td>14.000000</td>\n",
       "      <td>71.899000</td>\n",
       "      <td>19.500000</td>\n",
       "      <td>8.555000</td>\n",
       "      <td>9.570000</td>\n",
       "      <td>39.085000</td>\n",
       "      <td>8.150000</td>\n",
       "    </tr>\n",
       "    <tr>\n",
       "      <th>75%</th>\n",
       "      <td>20.000000</td>\n",
       "      <td>90.772500</td>\n",
       "      <td>24.845000</td>\n",
       "      <td>9.510000</td>\n",
       "      <td>10.885000</td>\n",
       "      <td>44.185000</td>\n",
       "      <td>9.990000</td>\n",
       "    </tr>\n",
       "    <tr>\n",
       "      <th>max</th>\n",
       "      <td>48.000000</td>\n",
       "      <td>220.000000</td>\n",
       "      <td>54.000000</td>\n",
       "      <td>11.820000</td>\n",
       "      <td>27.000000</td>\n",
       "      <td>71.430000</td>\n",
       "      <td>21.000000</td>\n",
       "    </tr>\n",
       "  </tbody>\n",
       "</table>\n",
       "</div>"
      ],
      "text/plain": [
       "              Age     Tonnage  passengers      length      cabins  \\\n",
       "count  158.000000  158.000000  158.000000  158.000000  158.000000   \n",
       "mean    15.689873   71.284671   18.457405    8.130633    8.830000   \n",
       "std      7.615691   37.229540    9.677095    1.793474    4.471417   \n",
       "min      4.000000    2.329000    0.660000    2.790000    0.330000   \n",
       "25%     10.000000   46.013000   12.535000    7.100000    6.132500   \n",
       "50%     14.000000   71.899000   19.500000    8.555000    9.570000   \n",
       "75%     20.000000   90.772500   24.845000    9.510000   10.885000   \n",
       "max     48.000000  220.000000   54.000000   11.820000   27.000000   \n",
       "\n",
       "       passenger_density        crew  \n",
       "count         158.000000  158.000000  \n",
       "mean           39.900949    7.794177  \n",
       "std             8.639217    3.503487  \n",
       "min            17.700000    0.590000  \n",
       "25%            34.570000    5.480000  \n",
       "50%            39.085000    8.150000  \n",
       "75%            44.185000    9.990000  \n",
       "max            71.430000   21.000000  "
      ]
     },
     "execution_count": 7,
     "metadata": {},
     "output_type": "execute_result"
    }
   ],
   "source": [
    "cruise1.describe()"
   ]
  },
  {
   "cell_type": "markdown",
   "metadata": {},
   "source": [
    "##### The count is the total number rows in our dataset which is 158,\n",
    "##### The mean measures the average of all columns for example the minimum number of passengers in any ship is 18 and the maximum number is 54\n",
    "##### the Standard deviation is 7.615691 which shows how spread the dataset.\n",
    "##### 25%, 50%, and 75% shows the IQR which from the above show that our dataset is normally distributed meaning the values is not far away from the middle. \n",
    "##### min tell us the minimum value in each column\n",
    "##### max show the maximum value of each column "
   ]
  },
  {
   "cell_type": "markdown",
   "metadata": {},
   "source": [
    "### 2.1 Plot the distibution for each column"
   ]
  },
  {
   "cell_type": "code",
   "execution_count": 8,
   "metadata": {},
   "outputs": [
    {
     "data": {
      "image/png": "[encoded data removed]",
      "text/plain": [
       "<Figure size 1080x1080 with 9 Axes>"
      ]
     },
     "metadata": {
      "needs_background": "light"
     },
     "output_type": "display_data"
    }
   ],
   "source": [
    "cruise1.hist(figsize=(15,15))\n",
    "plt.show()"
   ]
  },
  {
   "cell_type": "markdown",
   "metadata": {},
   "source": [
    "#### From the above distribution cabins, passengers, crew, Tonnage and passenger density are normally distributed, that is there are neither skwed to the left nor skwed to the right but Age, length, are not properly distributed which as a result we have to normalized the dataset.   "
   ]
  },
  {
   "cell_type": "markdown",
   "metadata": {},
   "source": [
    "### 3.2 probabilities distributions of age"
   ]
  },
  {
   "cell_type": "code",
   "execution_count": 9,
   "metadata": {},
   "outputs": [
    {
     "data": {
      "image/png": "[encoded data removed]",
      "text/plain": [
       "<Figure size 432x288 with 1 Axes>"
      ]
     },
     "metadata": {
      "needs_background": "light"
     },
     "output_type": "display_data"
    }
   ],
   "source": [
    "sns.distplot(cruise1['Tonnage'],bins=20)\n",
    "plt.title('probability distribution age')\n",
    "plt.show()"
   ]
  },
  {
   "cell_type": "markdown",
   "metadata": {},
   "source": [
    "#### From the distribution we can say that the Tonnage is normally distributed given that it is neither skwed to the left nor skwed to the right."
   ]
  },
  {
   "cell_type": "markdown",
   "metadata": {},
   "source": [
    "### 3.3 probabilities distributions of cabins"
   ]
  },
  {
   "cell_type": "code",
   "execution_count": 10,
   "metadata": {},
   "outputs": [
    {
     "data": {
      "image/png": "[encoded data removed]",
      "text/plain": [
       "<Figure size 432x288 with 1 Axes>"
      ]
     },
     "metadata": {
      "needs_background": "light"
     },
     "output_type": "display_data"
    }
   ],
   "source": [
    "sns.distplot(cruise1['cabins'],bins=20)\n",
    "plt.title('probability distribution of cabins')\n",
    "plt.show()"
   ]
  },
  {
   "cell_type": "markdown",
   "metadata": {},
   "source": [
    "##### From the distribution we can say that the cabins is normally distributed"
   ]
  },
  {
   "cell_type": "markdown",
   "metadata": {},
   "source": [
    "### 3.4 Standardization of dataset"
   ]
  },
  {
   "cell_type": "code",
   "execution_count": 11,
   "metadata": {},
   "outputs": [],
   "source": [
    "cols = ['Age', 'Tonnage', 'passengers', 'length', 'cabins', 'passenger_density', 'crew']\n",
    "normalization = StandardScaler()\n",
    "normal = normalization.fit_transform(cruise1[cols].values)"
   ]
  },
  {
   "cell_type": "code",
   "execution_count": 12,
   "metadata": {},
   "outputs": [
    {
     "data": {
      "text/html": [
       "<div>\n",
       "<style scoped>\n",
       "    .dataframe tbody tr th:only-of-type {\n",
       "        vertical-align: middle;\n",
       "    }\n",
       "\n",
       "    .dataframe tbody tr th {\n",
       "        vertical-align: top;\n",
       "    }\n",
       "\n",
       "    .dataframe thead th {\n",
       "        text-align: right;\n",
       "    }\n",
       "</style>\n",
       "<table border=\"1\" class=\"dataframe\">\n",
       "  <thead>\n",
       "    <tr style=\"text-align: right;\">\n",
       "      <th></th>\n",
       "      <th>Age</th>\n",
       "      <th>Tonnage</th>\n",
       "      <th>passengers</th>\n",
       "      <th>length</th>\n",
       "      <th>cabins</th>\n",
       "      <th>passenger_density</th>\n",
       "      <th>crew</th>\n",
       "    </tr>\n",
       "  </thead>\n",
       "  <tbody>\n",
       "    <tr>\n",
       "      <th>0</th>\n",
       "      <td>-1.276402</td>\n",
       "      <td>-1.104984</td>\n",
       "      <td>-1.193956</td>\n",
       "      <td>-1.225331</td>\n",
       "      <td>-1.184588</td>\n",
       "      <td>0.318057</td>\n",
       "      <td>-1.215267</td>\n",
       "    </tr>\n",
       "    <tr>\n",
       "      <th>1</th>\n",
       "      <td>-1.276402</td>\n",
       "      <td>-1.104984</td>\n",
       "      <td>-1.193956</td>\n",
       "      <td>-1.225331</td>\n",
       "      <td>-1.184588</td>\n",
       "      <td>0.318057</td>\n",
       "      <td>-1.215267</td>\n",
       "    </tr>\n",
       "    <tr>\n",
       "      <th>2</th>\n",
       "      <td>1.358105</td>\n",
       "      <td>-0.647310</td>\n",
       "      <td>-0.372926</td>\n",
       "      <td>-0.509363</td>\n",
       "      <td>-0.314095</td>\n",
       "      <td>-0.940676</td>\n",
       "      <td>-0.313304</td>\n",
       "    </tr>\n",
       "    <tr>\n",
       "      <th>3</th>\n",
       "      <td>-0.617775</td>\n",
       "      <td>1.043215</td>\n",
       "      <td>1.169614</td>\n",
       "      <td>0.782736</td>\n",
       "      <td>1.357341</td>\n",
       "      <td>-0.338017</td>\n",
       "      <td>3.237281</td>\n",
       "    </tr>\n",
       "    <tr>\n",
       "      <th>4</th>\n",
       "      <td>0.172577</td>\n",
       "      <td>0.810215</td>\n",
       "      <td>0.825445</td>\n",
       "      <td>0.441533</td>\n",
       "      <td>0.982670</td>\n",
       "      <td>-0.178934</td>\n",
       "      <td>0.631610</td>\n",
       "    </tr>\n",
       "  </tbody>\n",
       "</table>\n",
       "</div>"
      ],
      "text/plain": [
       "        Age   Tonnage  passengers    length    cabins  passenger_density  \\\n",
       "0 -1.276402 -1.104984   -1.193956 -1.225331 -1.184588           0.318057   \n",
       "1 -1.276402 -1.104984   -1.193956 -1.225331 -1.184588           0.318057   \n",
       "2  1.358105 -0.647310   -0.372926 -0.509363 -0.314095          -0.940676   \n",
       "3 -0.617775  1.043215    1.169614  0.782736  1.357341          -0.338017   \n",
       "4  0.172577  0.810215    0.825445  0.441533  0.982670          -0.178934   \n",
       "\n",
       "       crew  \n",
       "0 -1.215267  \n",
       "1 -1.215267  \n",
       "2 -0.313304  \n",
       "3  3.237281  \n",
       "4  0.631610  "
      ]
     },
     "execution_count": 12,
     "metadata": {},
     "output_type": "execute_result"
    }
   ],
   "source": [
    "normal_df = pd.DataFrame(normal, columns=cols)\n",
    "normal_df.head()"
   ]
  },
  {
   "cell_type": "markdown",
   "metadata": {},
   "source": [
    "### 3.5 Distribution before normalization"
   ]
  },
  {
   "cell_type": "code",
   "execution_count": 13,
   "metadata": {},
   "outputs": [
    {
     "data": {
      "image/png": "[encoded data removed]",
      "text/plain": [
       "<Figure size 432x288 with 1 Axes>"
      ]
     },
     "metadata": {
      "needs_background": "light"
     },
     "output_type": "display_data"
    }
   ],
   "source": [
    "for col in cols:\n",
    "    sns.kdeplot(cruise1[col])"
   ]
  },
  {
   "cell_type": "markdown",
   "metadata": {},
   "source": [
    "#### From the graph distribution we can see that the dataset are not normalized so in this case we transform all variables in the data to a specific range in other for our model to be able to learn properly."
   ]
  },
  {
   "cell_type": "markdown",
   "metadata": {},
   "source": [
    "### 3.6 Distribution after normalization"
   ]
  },
  {
   "cell_type": "code",
   "execution_count": 14,
   "metadata": {},
   "outputs": [
    {
     "data": {
      "image/png": "[encoded data removed]",
      "text/plain": [
       "<Figure size 432x288 with 1 Axes>"
      ]
     },
     "metadata": {
      "needs_background": "light"
     },
     "output_type": "display_data"
    }
   ],
   "source": [
    "for col in cols:\n",
    "    sns.kdeplot(normal_df[col])"
   ]
  },
  {
   "cell_type": "markdown",
   "metadata": {},
   "source": [
    "## 3.7. Covariance "
   ]
  },
  {
   "cell_type": "code",
   "execution_count": 15,
   "metadata": {},
   "outputs": [
    {
     "data": {
      "image/png": "[encoded data removed]",
      "text/plain": [
       "<Figure size 1080x1080 with 2 Axes>"
      ]
     },
     "metadata": {
      "needs_background": "light"
     },
     "output_type": "display_data"
    }
   ],
   "source": [
    "cov_mat =np.cov(normal.T)\n",
    "plt.figure(figsize=(15,15))\n",
    "sns.set(font_scale=1.7)\n",
    "hm = sns.heatmap(cov_mat,\n",
    "                 cbar=True,\n",
    "                 annot=True,\n",
    "                 square=True,\n",
    "                 fmt='.2f',\n",
    "                 annot_kws={'size': 12},\n",
    "                 yticklabels=cols,\n",
    "                 xticklabels=cols)\n",
    "plt.title('Covariance matrix showing covariance coefficients')\n",
    "plt.tight_layout()\n",
    "plt.show()"
   ]
  },
  {
   "cell_type": "markdown",
   "metadata": {},
   "source": [
    "#### Covariance measures the total variation of two random variables from their expected values. Using covariance, we can only gauge the direction of the relationship (whether the variables tend to move in tandem or show an inverse relationship)"
   ]
  },
  {
   "cell_type": "markdown",
   "metadata": {},
   "source": [
    "### 3.8 finding the correlation between features"
   ]
  },
  {
   "cell_type": "code",
   "execution_count": 16,
   "metadata": {},
   "outputs": [
    {
     "data": {
      "text/html": [
       "<div>\n",
       "<style scoped>\n",
       "    .dataframe tbody tr th:only-of-type {\n",
       "        vertical-align: middle;\n",
       "    }\n",
       "\n",
       "    .dataframe tbody tr th {\n",
       "        vertical-align: top;\n",
       "    }\n",
       "\n",
       "    .dataframe thead th {\n",
       "        text-align: right;\n",
       "    }\n",
       "</style>\n",
       "<table border=\"1\" class=\"dataframe\">\n",
       "  <thead>\n",
       "    <tr style=\"text-align: right;\">\n",
       "      <th></th>\n",
       "      <th>Age</th>\n",
       "      <th>Tonnage</th>\n",
       "      <th>passengers</th>\n",
       "      <th>length</th>\n",
       "      <th>cabins</th>\n",
       "      <th>passenger_density</th>\n",
       "      <th>crew</th>\n",
       "    </tr>\n",
       "  </thead>\n",
       "  <tbody>\n",
       "    <tr>\n",
       "      <th>Age</th>\n",
       "      <td>1.000000</td>\n",
       "      <td>-0.606646</td>\n",
       "      <td>-0.515542</td>\n",
       "      <td>-0.532286</td>\n",
       "      <td>-0.510019</td>\n",
       "      <td>-0.278830</td>\n",
       "      <td>-0.530657</td>\n",
       "    </tr>\n",
       "    <tr>\n",
       "      <th>Tonnage</th>\n",
       "      <td>-0.606646</td>\n",
       "      <td>1.000000</td>\n",
       "      <td>0.945061</td>\n",
       "      <td>0.922368</td>\n",
       "      <td>0.948764</td>\n",
       "      <td>-0.040846</td>\n",
       "      <td>0.927569</td>\n",
       "    </tr>\n",
       "    <tr>\n",
       "      <th>passengers</th>\n",
       "      <td>-0.515542</td>\n",
       "      <td>0.945061</td>\n",
       "      <td>1.000000</td>\n",
       "      <td>0.883535</td>\n",
       "      <td>0.976341</td>\n",
       "      <td>-0.294867</td>\n",
       "      <td>0.915234</td>\n",
       "    </tr>\n",
       "    <tr>\n",
       "      <th>length</th>\n",
       "      <td>-0.532286</td>\n",
       "      <td>0.922368</td>\n",
       "      <td>0.883535</td>\n",
       "      <td>1.000000</td>\n",
       "      <td>0.889798</td>\n",
       "      <td>-0.090488</td>\n",
       "      <td>0.895857</td>\n",
       "    </tr>\n",
       "    <tr>\n",
       "      <th>cabins</th>\n",
       "      <td>-0.510019</td>\n",
       "      <td>0.948764</td>\n",
       "      <td>0.976341</td>\n",
       "      <td>0.889798</td>\n",
       "      <td>1.000000</td>\n",
       "      <td>-0.253181</td>\n",
       "      <td>0.950823</td>\n",
       "    </tr>\n",
       "    <tr>\n",
       "      <th>passenger_density</th>\n",
       "      <td>-0.278830</td>\n",
       "      <td>-0.040846</td>\n",
       "      <td>-0.294867</td>\n",
       "      <td>-0.090488</td>\n",
       "      <td>-0.253181</td>\n",
       "      <td>1.000000</td>\n",
       "      <td>-0.155509</td>\n",
       "    </tr>\n",
       "    <tr>\n",
       "      <th>crew</th>\n",
       "      <td>-0.530657</td>\n",
       "      <td>0.927569</td>\n",
       "      <td>0.915234</td>\n",
       "      <td>0.895857</td>\n",
       "      <td>0.950823</td>\n",
       "      <td>-0.155509</td>\n",
       "      <td>1.000000</td>\n",
       "    </tr>\n",
       "  </tbody>\n",
       "</table>\n",
       "</div>"
      ],
      "text/plain": [
       "                        Age   Tonnage  passengers    length    cabins  \\\n",
       "Age                1.000000 -0.606646   -0.515542 -0.532286 -0.510019   \n",
       "Tonnage           -0.606646  1.000000    0.945061  0.922368  0.948764   \n",
       "passengers        -0.515542  0.945061    1.000000  0.883535  0.976341   \n",
       "length            -0.532286  0.922368    0.883535  1.000000  0.889798   \n",
       "cabins            -0.510019  0.948764    0.976341  0.889798  1.000000   \n",
       "passenger_density -0.278830 -0.040846   -0.294867 -0.090488 -0.253181   \n",
       "crew              -0.530657  0.927569    0.915234  0.895857  0.950823   \n",
       "\n",
       "                   passenger_density      crew  \n",
       "Age                        -0.278830 -0.530657  \n",
       "Tonnage                    -0.040846  0.927569  \n",
       "passengers                 -0.294867  0.915234  \n",
       "length                     -0.090488  0.895857  \n",
       "cabins                     -0.253181  0.950823  \n",
       "passenger_density           1.000000 -0.155509  \n",
       "crew                       -0.155509  1.000000  "
      ]
     },
     "execution_count": 16,
     "metadata": {},
     "output_type": "execute_result"
    }
   ],
   "source": [
    "cruise1.corr()"
   ]
  },
  {
   "cell_type": "markdown",
   "metadata": {},
   "source": [
    "#### the above table shows the correlation or describe the linear relationship between the continuous variables in our datasets."
   ]
  },
  {
   "cell_type": "markdown",
   "metadata": {},
   "source": [
    "#                         Analysis of Covariance Heatmap and Correlation table\n",
    "#### From the correlation/covariance above we are checking for the relationship between crew variable which is the predictor against other independent variables. From both the corr and the cov we see that four(4) independent variables have a strong variance and correlation with the predictors variables which are:\n",
    "##### A. Tonnage\n",
    "##### B. passengers\n",
    "##### C. length\n",
    "##### D. Cabins\n",
    "\n",
    "####  The other two(2) variables that is:\n",
    "##### A. Age\n",
    "##### B. passenger_density\n",
    "##### Have negative correlation and covariance with the Crew(predictor) variables so in that case we are droping those two columns since there both have negavtive relationship with the prediction variabe. That is there can be able to predict the crew size in the model."
   ]
  },
  {
   "cell_type": "markdown",
   "metadata": {},
   "source": [
    "### 3.9. Important columns"
   ]
  },
  {
   "cell_type": "code",
   "execution_count": 17,
   "metadata": {},
   "outputs": [],
   "source": [
    "cols_selected = ['Tonnage', 'passengers', 'length', 'cabins']"
   ]
  },
  {
   "cell_type": "code",
   "execution_count": 18,
   "metadata": {},
   "outputs": [
    {
     "data": {
      "text/html": [
       "<div>\n",
       "<style scoped>\n",
       "    .dataframe tbody tr th:only-of-type {\n",
       "        vertical-align: middle;\n",
       "    }\n",
       "\n",
       "    .dataframe tbody tr th {\n",
       "        vertical-align: top;\n",
       "    }\n",
       "\n",
       "    .dataframe thead th {\n",
       "        text-align: right;\n",
       "    }\n",
       "</style>\n",
       "<table border=\"1\" class=\"dataframe\">\n",
       "  <thead>\n",
       "    <tr style=\"text-align: right;\">\n",
       "      <th></th>\n",
       "      <th>Tonnage</th>\n",
       "      <th>passengers</th>\n",
       "      <th>length</th>\n",
       "      <th>cabins</th>\n",
       "    </tr>\n",
       "  </thead>\n",
       "  <tbody>\n",
       "    <tr>\n",
       "      <th>0</th>\n",
       "      <td>30.277</td>\n",
       "      <td>6.94</td>\n",
       "      <td>5.94</td>\n",
       "      <td>3.55</td>\n",
       "    </tr>\n",
       "    <tr>\n",
       "      <th>1</th>\n",
       "      <td>30.277</td>\n",
       "      <td>6.94</td>\n",
       "      <td>5.94</td>\n",
       "      <td>3.55</td>\n",
       "    </tr>\n",
       "    <tr>\n",
       "      <th>2</th>\n",
       "      <td>47.262</td>\n",
       "      <td>14.86</td>\n",
       "      <td>7.22</td>\n",
       "      <td>7.43</td>\n",
       "    </tr>\n",
       "    <tr>\n",
       "      <th>3</th>\n",
       "      <td>110.000</td>\n",
       "      <td>29.74</td>\n",
       "      <td>9.53</td>\n",
       "      <td>14.88</td>\n",
       "    </tr>\n",
       "    <tr>\n",
       "      <th>4</th>\n",
       "      <td>101.353</td>\n",
       "      <td>26.42</td>\n",
       "      <td>8.92</td>\n",
       "      <td>13.21</td>\n",
       "    </tr>\n",
       "  </tbody>\n",
       "</table>\n",
       "</div>"
      ],
      "text/plain": [
       "   Tonnage  passengers  length  cabins\n",
       "0   30.277        6.94    5.94    3.55\n",
       "1   30.277        6.94    5.94    3.55\n",
       "2   47.262       14.86    7.22    7.43\n",
       "3  110.000       29.74    9.53   14.88\n",
       "4  101.353       26.42    8.92   13.21"
      ]
     },
     "execution_count": 18,
     "metadata": {},
     "output_type": "execute_result"
    }
   ],
   "source": [
    "cruise1[cols_selected].head(5)"
   ]
  },
  {
   "cell_type": "markdown",
   "metadata": {},
   "source": [
    "#### From the correlation table  and covariance heatmap we are able to deduce that the columns in the table above are important for building our models because of the high correlation there have with predictor."
   ]
  },
  {
   "cell_type": "markdown",
   "metadata": {},
   "source": [
    "### 4. Performing One Hot Encoding"
   ]
  },
  {
   "cell_type": "code",
   "execution_count": 19,
   "metadata": {
    "scrolled": true
   },
   "outputs": [
    {
     "data": {
      "text/html": [
       "<div>\n",
       "<style scoped>\n",
       "    .dataframe tbody tr th:only-of-type {\n",
       "        vertical-align: middle;\n",
       "    }\n",
       "\n",
       "    .dataframe tbody tr th {\n",
       "        vertical-align: top;\n",
       "    }\n",
       "\n",
       "    .dataframe thead th {\n",
       "        text-align: right;\n",
       "    }\n",
       "</style>\n",
       "<table border=\"1\" class=\"dataframe\">\n",
       "  <thead>\n",
       "    <tr style=\"text-align: right;\">\n",
       "      <th></th>\n",
       "      <th>Tonnage</th>\n",
       "      <th>passengers</th>\n",
       "      <th>length</th>\n",
       "      <th>cabins</th>\n",
       "      <th>Ship_name_Adventure</th>\n",
       "      <th>Ship_name_Allegra</th>\n",
       "      <th>Ship_name_Amsterdam</th>\n",
       "      <th>Ship_name_Arcadia</th>\n",
       "      <th>Ship_name_Aries</th>\n",
       "      <th>Ship_name_Armonia</th>\n",
       "      <th>...</th>\n",
       "      <th>Cruise_line_Oceania</th>\n",
       "      <th>Cruise_line_Orient</th>\n",
       "      <th>Cruise_line_P&amp;O</th>\n",
       "      <th>Cruise_line_Princess</th>\n",
       "      <th>Cruise_line_Regent_Seven_Seas</th>\n",
       "      <th>Cruise_line_Royal_Caribbean</th>\n",
       "      <th>Cruise_line_Seabourn</th>\n",
       "      <th>Cruise_line_Silversea</th>\n",
       "      <th>Cruise_line_Star</th>\n",
       "      <th>Cruise_line_Windstar</th>\n",
       "    </tr>\n",
       "  </thead>\n",
       "  <tbody>\n",
       "    <tr>\n",
       "      <th>0</th>\n",
       "      <td>30.277</td>\n",
       "      <td>6.94</td>\n",
       "      <td>5.94</td>\n",
       "      <td>3.55</td>\n",
       "      <td>0</td>\n",
       "      <td>0</td>\n",
       "      <td>0</td>\n",
       "      <td>0</td>\n",
       "      <td>0</td>\n",
       "      <td>0</td>\n",
       "      <td>...</td>\n",
       "      <td>0</td>\n",
       "      <td>0</td>\n",
       "      <td>0</td>\n",
       "      <td>0</td>\n",
       "      <td>0</td>\n",
       "      <td>0</td>\n",
       "      <td>0</td>\n",
       "      <td>0</td>\n",
       "      <td>0</td>\n",
       "      <td>0</td>\n",
       "    </tr>\n",
       "    <tr>\n",
       "      <th>1</th>\n",
       "      <td>30.277</td>\n",
       "      <td>6.94</td>\n",
       "      <td>5.94</td>\n",
       "      <td>3.55</td>\n",
       "      <td>0</td>\n",
       "      <td>0</td>\n",
       "      <td>0</td>\n",
       "      <td>0</td>\n",
       "      <td>0</td>\n",
       "      <td>0</td>\n",
       "      <td>...</td>\n",
       "      <td>0</td>\n",
       "      <td>0</td>\n",
       "      <td>0</td>\n",
       "      <td>0</td>\n",
       "      <td>0</td>\n",
       "      <td>0</td>\n",
       "      <td>0</td>\n",
       "      <td>0</td>\n",
       "      <td>0</td>\n",
       "      <td>0</td>\n",
       "    </tr>\n",
       "    <tr>\n",
       "      <th>2</th>\n",
       "      <td>47.262</td>\n",
       "      <td>14.86</td>\n",
       "      <td>7.22</td>\n",
       "      <td>7.43</td>\n",
       "      <td>0</td>\n",
       "      <td>0</td>\n",
       "      <td>0</td>\n",
       "      <td>0</td>\n",
       "      <td>0</td>\n",
       "      <td>0</td>\n",
       "      <td>...</td>\n",
       "      <td>0</td>\n",
       "      <td>0</td>\n",
       "      <td>0</td>\n",
       "      <td>0</td>\n",
       "      <td>0</td>\n",
       "      <td>0</td>\n",
       "      <td>0</td>\n",
       "      <td>0</td>\n",
       "      <td>0</td>\n",
       "      <td>0</td>\n",
       "    </tr>\n",
       "    <tr>\n",
       "      <th>3</th>\n",
       "      <td>110.000</td>\n",
       "      <td>29.74</td>\n",
       "      <td>9.53</td>\n",
       "      <td>14.88</td>\n",
       "      <td>0</td>\n",
       "      <td>0</td>\n",
       "      <td>0</td>\n",
       "      <td>0</td>\n",
       "      <td>0</td>\n",
       "      <td>0</td>\n",
       "      <td>...</td>\n",
       "      <td>0</td>\n",
       "      <td>0</td>\n",
       "      <td>0</td>\n",
       "      <td>0</td>\n",
       "      <td>0</td>\n",
       "      <td>0</td>\n",
       "      <td>0</td>\n",
       "      <td>0</td>\n",
       "      <td>0</td>\n",
       "      <td>0</td>\n",
       "    </tr>\n",
       "    <tr>\n",
       "      <th>4</th>\n",
       "      <td>101.353</td>\n",
       "      <td>26.42</td>\n",
       "      <td>8.92</td>\n",
       "      <td>13.21</td>\n",
       "      <td>0</td>\n",
       "      <td>0</td>\n",
       "      <td>0</td>\n",
       "      <td>0</td>\n",
       "      <td>0</td>\n",
       "      <td>0</td>\n",
       "      <td>...</td>\n",
       "      <td>0</td>\n",
       "      <td>0</td>\n",
       "      <td>0</td>\n",
       "      <td>0</td>\n",
       "      <td>0</td>\n",
       "      <td>0</td>\n",
       "      <td>0</td>\n",
       "      <td>0</td>\n",
       "      <td>0</td>\n",
       "      <td>0</td>\n",
       "    </tr>\n",
       "  </tbody>\n",
       "</table>\n",
       "<p>5 rows × 162 columns</p>\n",
       "</div>"
      ],
      "text/plain": [
       "   Tonnage  passengers  length  cabins  Ship_name_Adventure  \\\n",
       "0   30.277        6.94    5.94    3.55                    0   \n",
       "1   30.277        6.94    5.94    3.55                    0   \n",
       "2   47.262       14.86    7.22    7.43                    0   \n",
       "3  110.000       29.74    9.53   14.88                    0   \n",
       "4  101.353       26.42    8.92   13.21                    0   \n",
       "\n",
       "   Ship_name_Allegra  Ship_name_Amsterdam  Ship_name_Arcadia  Ship_name_Aries  \\\n",
       "0                  0                    0                  0                0   \n",
       "1                  0                    0                  0                0   \n",
       "2                  0                    0                  0                0   \n",
       "3                  0                    0                  0                0   \n",
       "4                  0                    0                  0                0   \n",
       "\n",
       "   Ship_name_Armonia  ...  Cruise_line_Oceania  Cruise_line_Orient  \\\n",
       "0                  0  ...                    0                   0   \n",
       "1                  0  ...                    0                   0   \n",
       "2                  0  ...                    0                   0   \n",
       "3                  0  ...                    0                   0   \n",
       "4                  0  ...                    0                   0   \n",
       "\n",
       "   Cruise_line_P&O  Cruise_line_Princess  Cruise_line_Regent_Seven_Seas  \\\n",
       "0                0                     0                              0   \n",
       "1                0                     0                              0   \n",
       "2                0                     0                              0   \n",
       "3                0                     0                              0   \n",
       "4                0                     0                              0   \n",
       "\n",
       "   Cruise_line_Royal_Caribbean  Cruise_line_Seabourn  Cruise_line_Silversea  \\\n",
       "0                            0                     0                      0   \n",
       "1                            0                     0                      0   \n",
       "2                            0                     0                      0   \n",
       "3                            0                     0                      0   \n",
       "4                            0                     0                      0   \n",
       "\n",
       "   Cruise_line_Star  Cruise_line_Windstar  \n",
       "0                 0                     0  \n",
       "1                 0                     0  \n",
       "2                 0                     0  \n",
       "3                 0                     0  \n",
       "4                 0                     0  \n",
       "\n",
       "[5 rows x 162 columns]"
      ]
     },
     "execution_count": 19,
     "metadata": {},
     "output_type": "execute_result"
    }
   ],
   "source": [
    "cruise2 = pd.get_dummies(cruise1[['Ship_name', 'Cruise_line', 'Tonnage', 'passengers', 'length', 'cabins']])\n",
    "cruise2.head()"
   ]
  },
  {
   "cell_type": "markdown",
   "metadata": {},
   "source": [
    "#### In other to build a more simplified regression model, we focus on ordinal features meaning we are only using the four(4) ordinal features in our data set which are \"Tonnage\", \"passengers\", \"length\", \"cabins\""
   ]
  },
  {
   "cell_type": "markdown",
   "metadata": {},
   "source": [
    "### 5. Assigning variables to X and Y"
   ]
  },
  {
   "cell_type": "code",
   "execution_count": 20,
   "metadata": {},
   "outputs": [],
   "source": [
    "X = cruise1[cols_selected].values\n",
    "\n",
    "y = cruise1['crew'].values"
   ]
  },
  {
   "cell_type": "markdown",
   "metadata": {},
   "source": [
    "### 5.1 Checking for the shape of our dataset"
   ]
  },
  {
   "cell_type": "code",
   "execution_count": 21,
   "metadata": {},
   "outputs": [
    {
     "data": {
      "text/plain": [
       "(158, 4)"
      ]
     },
     "execution_count": 21,
     "metadata": {},
     "output_type": "execute_result"
    }
   ],
   "source": [
    "X.shape"
   ]
  },
  {
   "cell_type": "code",
   "execution_count": 22,
   "metadata": {},
   "outputs": [
    {
     "data": {
      "text/plain": [
       "(158,)"
      ]
     },
     "execution_count": 22,
     "metadata": {},
     "output_type": "execute_result"
    }
   ],
   "source": [
    "y.shape"
   ]
  },
  {
   "cell_type": "markdown",
   "metadata": {},
   "source": [
    "### 5.2 Creating train, test, dataset "
   ]
  },
  {
   "cell_type": "code",
   "execution_count": 23,
   "metadata": {},
   "outputs": [],
   "source": [
    "X_train, X_test, y_train, y_test = train_test_split(X, y, test_size =.60, random_state = 40)"
   ]
  },
  {
   "cell_type": "markdown",
   "metadata": {},
   "source": [
    "### 6. Building the Linear regression Machine Learning model"
   ]
  },
  {
   "cell_type": "code",
   "execution_count": 24,
   "metadata": {},
   "outputs": [],
   "source": [
    "linear_model = LinearRegression()\n",
    "\n",
    "model = linear_model.fit(X_train, y_train) ## fitting train set into model\n",
    "\n",
    "y_train_predict = model.predict(X_train) ## predicting X train variables\n",
    "y_test_predict = model.predict(X_test) ## predicting X test variables"
   ]
  },
  {
   "cell_type": "markdown",
   "metadata": {},
   "source": [
    "### 6.1 Graph to show the rate at which the training set can be able to predict the test set variables"
   ]
  },
  {
   "cell_type": "code",
   "execution_count": 25,
   "metadata": {},
   "outputs": [
    {
     "data": {
      "image/png": "[encoded data removed]",
      "text/plain": [
       "<Figure size 432x288 with 1 Axes>"
      ]
     },
     "metadata": {},
     "output_type": "display_data"
    }
   ],
   "source": [
    "plt.scatter(y_train_predict,  y_train_predict - y_train,\n",
    "            c='blue', marker='o', edgecolor='white',\n",
    "            label='Training data')\n",
    "plt.scatter(y_test_predict,  y_test_predict - y_test,\n",
    "            c='red', marker='s', edgecolor='white',\n",
    "            label='Test data')\n",
    "plt.xlabel('Predicted values')\n",
    "plt.ylabel('Residuals')\n",
    "plt.legend(loc='upper left')\n",
    "plt.hlines(y=0, xmin=-10, xmax=50, color='green', lw=2)\n",
    "plt.xlim([-5, 50])\n",
    "plt.tight_layout()\n",
    "plt.legend(loc='lower right')\n",
    "plt.show()"
   ]
  },
  {
   "cell_type": "markdown",
   "metadata": {},
   "source": [
    "#### the above graph show the performance of the model that is the rate at which the train can be able to predict the test dataset"
   ]
  },
  {
   "cell_type": "markdown",
   "metadata": {},
   "source": [
    "### 6.2 Evaluation of model "
   ]
  },
  {
   "cell_type": "code",
   "execution_count": 26,
   "metadata": {},
   "outputs": [
    {
     "name": "stdout",
     "output_type": "stream",
     "text": [
      "model score:  0.91\n"
     ]
    }
   ],
   "source": [
    "print(\"model score: % .2f\" % model.score(X_test, y_test))"
   ]
  },
  {
   "cell_type": "markdown",
   "metadata": {},
   "source": [
    "#### The model score tell us how accurate the model is able to predict and from our model it shows that the model has 91% accurancy of predicting. "
   ]
  },
  {
   "cell_type": "code",
   "execution_count": 27,
   "metadata": {
    "scrolled": true
   },
   "outputs": [
    {
     "name": "stdout",
     "output_type": "stream",
     "text": [
      "mean square error test: 1.14\n",
      "mean square error train: 0.63\n",
      "\n",
      "residual sum of square train: 0.94\n",
      "residual sum of square test: 0.91\n"
     ]
    }
   ],
   "source": [
    "print(\"mean square error test: %.2f\" % mean_squared_error(y_test, y_test_predict))\n",
    "print(\"mean square error train: %.2f\" % mean_squared_error(y_train, y_train_predict))\n",
    "print()\n",
    "print(\"residual sum of square train: %.2f\" % r2_score(y_train, y_train_predict))\n",
    "print(\"residual sum of square test: %.2f\" % r2_score(y_test, y_test_predict))"
   ]
  },
  {
   "cell_type": "markdown",
   "metadata": {},
   "source": [
    "#### Evaluation metrics is the measure of model performance. The mean square error is the mean of the squared difference between the predicted parameter and the observed parameter which is 0.63% for train and 1.14% for test, the r2_score is also known as the coefficient of determination, or the coefficient of multiple determination for multiple regression. From the metric score above we can say that r2_score indicate that the model explains 91% of the variability of the response data around its mean for the test set, and 94% for the train dataset. In a nutshell we can say that the model have 91% of predicting the crew size on the cruise ship. The graph below give a clear understanding of the performance of the model."
   ]
  },
  {
   "cell_type": "markdown",
   "metadata": {},
   "source": [
    "### 6.3 Visualize how close the train and predict are"
   ]
  },
  {
   "cell_type": "code",
   "execution_count": 28,
   "metadata": {},
   "outputs": [
    {
     "data": {
      "image/png": "[encoded data removed]",
      "text/plain": [
       "<Figure size 432x288 with 1 Axes>"
      ]
     },
     "metadata": {},
     "output_type": "display_data"
    }
   ],
   "source": [
    "sorted_indices = y_train.argsort()\n",
    "plt.plot(np.arange(y_train.shape[0]), y_train[sorted_indices])\n",
    "plt.plot(np.arange(y_train.shape[0]), y_train_predict[sorted_indices])\n",
    "plt.show()"
   ]
  },
  {
   "cell_type": "code",
   "execution_count": 29,
   "metadata": {},
   "outputs": [
    {
     "data": {
      "image/png": "[encoded data removed]",
      "text/plain": [
       "<Figure size 432x288 with 1 Axes>"
      ]
     },
     "metadata": {},
     "output_type": "display_data"
    }
   ],
   "source": [
    "sorted_indices = y_test.argsort()\n",
    "plt.plot(np.arange(y_test.shape[0]), y_test[sorted_indices])\n",
    "plt.plot(np.arange(y_test.shape[0]), y_test_predict[sorted_indices])\n",
    "plt.show()"
   ]
  },
  {
   "cell_type": "code",
   "execution_count": 30,
   "metadata": {
    "scrolled": true
   },
   "outputs": [
    {
     "data": {
      "text/plain": [
       "array([0.6 , 0.88, 0.88, 1.6 , 1.6 , 1.97, 2.1 , 2.95, 3.24, 3.5 ])"
      ]
     },
     "execution_count": 30,
     "metadata": {},
     "output_type": "execute_result"
    }
   ],
   "source": [
    "y_test[sorted_indices][:10]"
   ]
  },
  {
   "cell_type": "code",
   "execution_count": 31,
   "metadata": {},
   "outputs": [
    {
     "data": {
      "text/plain": [
       "array([0.70446449, 1.457522  , 1.46955165, 1.68625259, 1.68625259,\n",
       "       2.28781507, 2.28781507, 2.95829709, 3.14509031, 4.09960605])"
      ]
     },
     "execution_count": 31,
     "metadata": {},
     "output_type": "execute_result"
    }
   ],
   "source": [
    "y_test_predict[sorted_indices][:10]"
   ]
  },
  {
   "cell_type": "code",
   "execution_count": 32,
   "metadata": {},
   "outputs": [
    {
     "data": {
      "text/plain": [
       "-0.7648598982294992"
      ]
     },
     "execution_count": 32,
     "metadata": {},
     "output_type": "execute_result"
    }
   ],
   "source": [
    "model.fit(X_train, y_train).intercept_"
   ]
  },
  {
   "cell_type": "markdown",
   "metadata": {},
   "source": [
    "### 6.4 Regression coefficients"
   ]
  },
  {
   "cell_type": "code",
   "execution_count": 33,
   "metadata": {},
   "outputs": [
    {
     "data": {
      "text/plain": [
       "array([ 0.00956731, -0.13366282,  0.41017521,  0.79681459])"
      ]
     },
     "execution_count": 33,
     "metadata": {},
     "output_type": "execute_result"
    }
   ],
   "source": [
    "model.fit(X_train, y_train).coef_"
   ]
  },
  {
   "cell_type": "markdown",
   "metadata": {},
   "source": [
    "#### The regression coef is to show the percentage of each variable (column) in predicting the crew size in the model and from the coef i can categorical say that cabins have 80% chance of predicting the crew size compare to any other variable in the estimator."
   ]
  },
  {
   "cell_type": "markdown",
   "metadata": {},
   "source": [
    "### 7. Pearson correlation"
   ]
  },
  {
   "cell_type": "code",
   "execution_count": 34,
   "metadata": {},
   "outputs": [
    {
     "name": "stdout",
     "output_type": "stream",
     "text": [
      "[[1.         0.63069943 0.8961627  ... 0.596327   0.62141118 0.65350783]\n",
      " [0.63069943 1.         0.9094736  ... 0.99734192 0.99991162 0.99949599]\n",
      " [0.8961627  0.9094736  1.         ... 0.88897919 0.9043918  0.92150592]\n",
      " ...\n",
      " [0.596327   0.99734192 0.88897919 ... 1.         0.99810779 0.99493333]\n",
      " [0.62141118 0.99991162 0.9043918  ... 0.99810779 1.         0.99898819]\n",
      " [0.65350783 0.99949599 0.92150592 ... 0.99493333 0.99898819 1.        ]]\n"
     ]
    }
   ],
   "source": [
    "per_cor_coef = np.corrcoef(X_train, X_test)\n",
    "print(per_cor_coef)"
   ]
  },
  {
   "cell_type": "markdown",
   "metadata": {},
   "source": [
    "#### The Pearson correlation coefficient can be used to summarize the strength of the linear relationship between two data samples. The correlation above show that there is a chance of finding a correlation  coefficient of 99% or even higher in a sample. "
   ]
  },
  {
   "cell_type": "markdown",
   "metadata": {},
   "source": [
    "## 8. Hyper-parameter tunning"
   ]
  },
  {
   "cell_type": "markdown",
   "metadata": {},
   "source": [
    "#### Hyperparameters tunning are parameters estimates which improves the result of the linear regression model (Eg: increasing the percentage of train set/test set) and the variables which determine how the model is being trained Hyperparameters are set before training."
   ]
  },
  {
   "cell_type": "markdown",
   "metadata": {},
   "source": [
    "#### So in this case i will be decreasing the size of X_train and y_train, and decreasing the train set to 70% and 30% for test to improve the result of the linear regression model also increase the random_srate from range 1 to 10, scale the dataset using."
   ]
  },
  {
   "cell_type": "code",
   "execution_count": 35,
   "metadata": {},
   "outputs": [
    {
     "name": "stdout",
     "output_type": "stream",
     "text": [
      "(44, 4)\n",
      "(44,)\n"
     ]
    }
   ],
   "source": [
    "train_score = []\n",
    "test_score = []\n",
    "\n",
    "random_state = 10\n",
    "\n",
    "for i in range(random_state):\n",
    "    X_train1, X_test1, y_train1, y_test1 = train_test_split(X_train, y_train, test_size = 0.30, random_state = i)\n",
    "\n",
    "    linear_model = LinearRegression()\n",
    "    linear_model.fit(X_train1, y_train1)\n",
    "    \n",
    "    y_train_predict_mimax = linear_model.predict(X_train1)## predicting X train data set\n",
    "    y_test_predict_minmax = linear_model.predict(X_test1)## predicting X test data set\n",
    "    \n",
    "    train_score = np.append(train_score, r2_score(y_train1, y_train_predict_mimax))\n",
    "    test_score = np.append(test_score, r2_score(y_test1, y_test_predict_minmax))\n",
    "\n",
    "print(X_train1.shape)## shape of X_train set\n",
    "print(y_train1.shape)## shape of y_train set"
   ]
  },
  {
   "cell_type": "code",
   "execution_count": 36,
   "metadata": {},
   "outputs": [
    {
     "data": {
      "text/plain": [
       "array([0.93017602, 0.95904072, 0.92974471, 0.93971375, 0.97524973,\n",
       "       0.92884048, 0.96349563, 0.92689857, 0.96682358, 0.91929053])"
      ]
     },
     "execution_count": 36,
     "metadata": {},
     "output_type": "execute_result"
    }
   ],
   "source": [
    "train_score"
   ]
  },
  {
   "cell_type": "code",
   "execution_count": 37,
   "metadata": {},
   "outputs": [
    {
     "data": {
      "text/plain": [
       "array([0.9225255 , 0.88837832, 0.95241532, 0.90266883, 0.74786232,\n",
       "       0.87860908, 0.84067943, 0.94400723, 0.84149292, 0.96419586])"
      ]
     },
     "execution_count": 37,
     "metadata": {},
     "output_type": "execute_result"
    }
   ],
   "source": [
    "test_score"
   ]
  },
  {
   "cell_type": "code",
   "execution_count": 38,
   "metadata": {},
   "outputs": [
    {
     "name": "stdout",
     "output_type": "stream",
     "text": [
      "R2 train: 0.94 +/- 0.02\n"
     ]
    }
   ],
   "source": [
    "print('R2 train: %.2f +/- %.2f' % (np.mean(train_score),np.std(train_score)))\n",
    "# print('mean_train_error_score: %.3f +/- %.3f' % (np.mean(mean_train_error_score),np.std(mean_train_error_score)))"
   ]
  },
  {
   "cell_type": "code",
   "execution_count": 39,
   "metadata": {},
   "outputs": [
    {
     "name": "stdout",
     "output_type": "stream",
     "text": [
      "R2 test: 0.89 +/- 0.06\n"
     ]
    }
   ],
   "source": [
    "print('R2 test: %.2f +/- %.2f' % (np.mean(test_score),np.std(test_score)))\n",
    "# print('mean_test_error_score: %.3f +/- %.3f' % (np.mean(mean_test_error_score),np.std(mean_test_error_score)))"
   ]
  },
  {
   "cell_type": "code",
   "execution_count": 40,
   "metadata": {},
   "outputs": [
    {
     "name": "stdout",
     "output_type": "stream",
     "text": [
      "model score:  0.96\n"
     ]
    }
   ],
   "source": [
    "print(\"model score: % .2f\" % linear_model.score(X_test1, y_test1))"
   ]
  },
  {
   "cell_type": "markdown",
   "metadata": {},
   "source": [
    "### After reducing the train and test size as well as reducing the percentage of train and increasing the percentage of test there was a significant change in the accuracy score from 91% to 96%."
   ]
  },
  {
   "cell_type": "markdown",
   "metadata": {},
   "source": [
    "## 9. Regularization "
   ]
  },
  {
   "cell_type": "markdown",
   "metadata": {},
   "source": [
    "### Regularization is a technique used in Mechine Learning to regularizes or shrinks the coefficient estimates towards zero. In other words, this technique discourages learning a more complex or flexible model, so as to avoid the risk of overfitting. The regularization techniques that will be use are:\n",
    "##   1. Lasso (L1)\n",
    "##   2. Ridge (L2)"
   ]
  },
  {
   "cell_type": "markdown",
   "metadata": {},
   "source": [
    "### 9.1 Lasso regularization regression"
   ]
  },
  {
   "cell_type": "code",
   "execution_count": 41,
   "metadata": {},
   "outputs": [
    {
     "name": "stdout",
     "output_type": "stream",
     "text": [
      "r2 train score: 0.94\n",
      "\n",
      "r2 test score: 0.91\n",
      "\n",
      "number of features used: 4.00\n"
     ]
    },
    {
     "data": {
      "image/png": "[encoded data removed]",
      "text/plain": [
       "<Figure size 432x288 with 1 Axes>"
      ]
     },
     "metadata": {},
     "output_type": "display_data"
    }
   ],
   "source": [
    "lasso = Lasso(alpha = 0.0, max_iter=100)\n",
    "\n",
    "lasso.fit(X_train,y_train)\n",
    "train_score=lasso.score(X_train,y_train)\n",
    "\n",
    "y_predict = lasso.predict(X_test)\n",
    "test_score=lasso.score(X_test, y_test)\n",
    "\n",
    "coeff_used = np.sum(lasso.coef_!=0)\n",
    "\n",
    "print(\"r2 train score: %.2f\" % train_score)\n",
    "print()\n",
    "print (\"r2 test score: %.2f\" % test_score)\n",
    "print()\n",
    "print (\"number of features used: %.2f\" % coeff_used)\n",
    "\n",
    "plt.subplot(1,2,1)\n",
    "plt.plot(lasso.coef_,alpha=0.7,marker='*',markersize=5,color='green',label=r'Lasso; $\\alpha = 1$',zorder=7) # alpha here is for transparency\n",
    "# plt.plot(lasso001.coef_,alpha=0.5,linestyle='none',marker='d',markersize=6,color='blue',label=r'Lasso; $\\alpha = 0.01$') # alpha here is for transparency\n",
    "\n",
    "plt.xlabel('Coefficient Index',fontsize=16)\n",
    "plt.ylabel('Coefficient Magnitude',fontsize=16)\n",
    "plt.legend(fontsize=13,loc=4)\n",
    "plt.show()"
   ]
  },
  {
   "cell_type": "markdown",
   "metadata": {},
   "source": [
    "### 9.2 Ridge regularization regression"
   ]
  },
  {
   "cell_type": "code",
   "execution_count": 42,
   "metadata": {},
   "outputs": [
    {
     "name": "stdout",
     "output_type": "stream",
     "text": [
      "R-square value: 0.91\n",
      "\n",
      "mean_square error: 1.14\n",
      "\n",
      "number of coefficient used: 4.00\n",
      "\n",
      "ridge score: 1.00\n",
      "\n",
      "[ 0.00956731 -0.13366282  0.41017521  0.79681459]\n"
     ]
    }
   ],
   "source": [
    "ridge = Ridge(alpha = 0.0, normalize = True)\n",
    "ridge_reg = ridge.fit(X_train, y_train)\n",
    "y_predict = ridge.predict(X_test)\n",
    "coeff_used = np.sum(ridge.coef_!=0)\n",
    "\n",
    "print(\"R-square value: %.2f\" % r2_score(y_test, y_predict))\n",
    "print()\n",
    "print(\"mean_square error: %.2f\" % mean_squared_error(y_test, y_predict))\n",
    "print()\n",
    "print(\"number of coefficient used: %.2f\" % coeff_used)\n",
    "print()\n",
    "print(\"ridge score: %.2f\" % ridge.score(X_test, y_predict))\n",
    "print()\n",
    "print(ridge.coef_)"
   ]
  },
  {
   "cell_type": "markdown",
   "metadata": {},
   "source": [
    "### 9.3 lasso score"
   ]
  },
  {
   "cell_type": "code",
   "execution_count": 43,
   "metadata": {},
   "outputs": [
    {
     "name": "stdout",
     "output_type": "stream",
     "text": [
      "[0.9354140480677716, 0.8513753484118916, 0.8321903425237327, 0.8318374428408712, 0.8313639354261229, 0.8307698202794875, 0.8300550974009653, 0.8292197667905561, 0.82826382844826, 0.8271872823740768]\n"
     ]
    }
   ],
   "source": [
    "las= []\n",
    "i = np.linspace(0.1, 1.0, 10)\n",
    "for i in range(10):\n",
    "    corr = Lasso(alpha=i)\n",
    "    corr.fit(X,y)\n",
    "    las_reg = corr.score(X_train,y_train)\n",
    "    \n",
    "    las.append(las_reg)\n",
    "print(las)"
   ]
  },
  {
   "cell_type": "markdown",
   "metadata": {},
   "source": [
    "### 10 Regularization and correlation (pearson)"
   ]
  },
  {
   "cell_type": "code",
   "execution_count": 44,
   "metadata": {},
   "outputs": [],
   "source": [
    "alphas = []\n",
    "\n",
    "corr_test = []\n",
    "corr_train = []\n",
    "\n",
    "train_scores = []\n",
    "test_scores = []\n",
    "\n",
    "alpha_iters = np.linspace(0.0, 1.0, 10)\n",
    "\n",
    "for alpha in alpha_iters:\n",
    "    ridge_model = Ridge(alpha=alpha)\n",
    "    ridge_model.fit(X_train,y_train)\n",
    "    \n",
    "    alphas.append(alpha)\n",
    "    \n",
    "    y_test_pred = ridge_model.predict(X_test)\n",
    "    test_scores.append(ridge_model.score(X_test, y_test))\n",
    "    corr_test.append(np.corrcoef(y_test, y_test_pred)[0,1])\n",
    "    \n",
    "    y_train_pred = ridge_model.predict(X_train)\n",
    "    train_scores.append(ridge_model.score(X_train, y_train))\n",
    "    corr_train.append(np.corrcoef(y_train, y_train_pred)[0,1])"
   ]
  },
  {
   "cell_type": "markdown",
   "metadata": {},
   "source": [
    "### 10.1 Regularization parameter and Correlation values"
   ]
  },
  {
   "cell_type": "code",
   "execution_count": 45,
   "metadata": {},
   "outputs": [
    {
     "name": "stdout",
     "output_type": "stream",
     "text": [
      " alpha   | test_corr | train_corr | train_score | test_score\n",
      "============================================================\n",
      "  0.00   |   0.96    |    0.97    |    0.94     |    0.91   \n",
      "  0.11   |   0.96    |    0.97    |    0.94     |    0.91   \n",
      "  0.22   |   0.96    |    0.97    |    0.94     |    0.91   \n",
      "  0.33   |   0.96    |    0.97    |    0.94     |    0.91   \n",
      "  0.44   |   0.96    |    0.97    |    0.94     |    0.91   \n",
      "  0.56   |   0.96    |    0.97    |    0.94     |    0.91   \n",
      "  0.67   |   0.96    |    0.97    |    0.94     |    0.91   \n",
      "  0.78   |   0.96    |    0.97    |    0.94     |    0.91   \n",
      "  0.89   |   0.96    |    0.97    |    0.94     |    0.91   \n",
      "  1.00   |   0.96    |    0.97    |    0.94     |    0.91   \n"
     ]
    }
   ],
   "source": [
    "corr_train = np.array(corr_train)\n",
    "corr_test = np.array(corr_test)\n",
    "\n",
    "z = list(zip(alphas, corr_test, corr_train, train_scores, test_scores))\n",
    "\n",
    "print(f'{\"alpha\":^8s} | {\"test_corr\":^8s} | {\"train_corr\":^8s} | {\"train_score\":^8s} | {\"test_score\":^8s}')\n",
    "print(\"=\"*60)\n",
    "for (a, b, c, d, e) in z:\n",
    "    print(f\"{a:^8.2f} | {b:^9.2f} | {c:^10.2f} | {d:^11.2f} | {e:^10.2f}\")"
   ]
  },
  {
   "cell_type": "markdown",
   "metadata": {},
   "source": [
    "### 10.2 Visualization of Pearson correlation for train and test set"
   ]
  },
  {
   "cell_type": "code",
   "execution_count": 46,
   "metadata": {},
   "outputs": [
    {
     "data": {
      "image/png": "[encoded data removed]",
      "text/plain": [
       "<Figure size 432x288 with 1 Axes>"
      ]
     },
     "metadata": {},
     "output_type": "display_data"
    }
   ],
   "source": [
    "plt.plot((corr_train-corr_train.min()) / (corr_train.max() - corr_train.min()), alphas)\n",
    "plt.plot((corr_test-corr_test.min()) / (corr_test.max()-corr_test.min()), alphas)\n",
    "plt.ylabel('Pearson Correlation')\n",
    "plt.xlabel('alpha')\n",
    "plt.legend([\"train\", \"test\"])\n",
    "plt.show()"
   ]
  },
  {
   "cell_type": "markdown",
   "metadata": {},
   "source": [
    "## Visualization for pearson test correlation"
   ]
  },
  {
   "cell_type": "code",
   "execution_count": 47,
   "metadata": {},
   "outputs": [
    {
     "data": {
      "image/png": "[encoded data removed]",
      "text/plain": [
       "<Figure size 432x288 with 1 Axes>"
      ]
     },
     "metadata": {},
     "output_type": "display_data"
    }
   ],
   "source": [
    "plt.plot(corr_test, alphas)\n",
    "plt.xlabel('alpha')\n",
    "plt.ylabel('Pearson Correlation')\n",
    "plt.show()"
   ]
  },
  {
   "cell_type": "markdown",
   "metadata": {},
   "source": [
    "## Visualization for pearson train correlation"
   ]
  },
  {
   "cell_type": "code",
   "execution_count": 48,
   "metadata": {},
   "outputs": [
    {
     "data": {
      "image/png": "[encoded data removed]",
      "text/plain": [
       "<Figure size 432x288 with 1 Axes>"
      ]
     },
     "metadata": {},
     "output_type": "display_data"
    }
   ],
   "source": [
    "plt.plot( corr_train, alphas)\n",
    "plt.xlabel('alpha')\n",
    "plt.ylabel('Pearson Correlation')\n",
    "plt.show()"
   ]
  },
  {
   "cell_type": "markdown",
   "metadata": {},
   "source": [
    "# From the pearson correlation graph we observed that as the alpha value is increasing the train and test set is decreasing at almost same pace which mean that there is high correlation between the training and test set that is there is no trade off bias and variance meaning the model have high accuracy of predicting the crew size correctly as a result of learning from the training set."
   ]
  },
  {
   "cell_type": "markdown",
   "metadata": {},
   "source": [
    "### ==================================End of Notebook======================================="
   ]
  }
 ],
 "metadata": {
  "kernelspec": {
   "display_name": "Python 3",
   "language": "python",
   "name": "python3"
  },
  "language_info": {
   "codemirror_mode": {
    "name": "ipython",
    "version": 3
   },
   "file_extension": ".py",
   "mimetype": "text/x-python",
   "name": "python",
   "nbconvert_exporter": "python",
   "pygments_lexer": "ipython3",
   "version": "3.8.5"
  }
 },
 "nbformat": 4,
 "nbformat_minor": 4
}
